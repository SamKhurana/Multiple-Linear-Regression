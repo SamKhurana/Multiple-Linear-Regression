{
 "cells": [
  {
   "cell_type": "markdown",
   "id": "79c0fe2f",
   "metadata": {
    "heading_collapsed": true
   },
   "source": [
    "# Importing Libraries"
   ]
  },
  {
   "cell_type": "code",
   "execution_count": 1,
   "id": "13690d5b",
   "metadata": {
    "hidden": true
   },
   "outputs": [],
   "source": [
    "import pandas as pd\n",
    "import numpy as np\n",
    "import seaborn as sns\n",
    "import matplotlib.pyplot as plt\n",
    "from sklearn.linear_model import LinearRegression\n",
    "from sklearn.model_selection import train_test_split\n",
    "from sklearn.metrics import r2_score"
   ]
  },
  {
   "cell_type": "markdown",
   "id": "4cc7ea5e",
   "metadata": {
    "heading_collapsed": true
   },
   "source": [
    "# EDA"
   ]
  },
  {
   "cell_type": "code",
   "execution_count": 2,
   "id": "f4fdae73",
   "metadata": {
    "hidden": true
   },
   "outputs": [],
   "source": [
    "df = pd.read_csv(\"profit.csv\")"
   ]
  },
  {
   "cell_type": "code",
   "execution_count": 3,
   "id": "8907d40b",
   "metadata": {
    "hidden": true
   },
   "outputs": [
    {
     "data": {
      "text/html": [
       "<div>\n",
       "<style scoped>\n",
       "    .dataframe tbody tr th:only-of-type {\n",
       "        vertical-align: middle;\n",
       "    }\n",
       "\n",
       "    .dataframe tbody tr th {\n",
       "        vertical-align: top;\n",
       "    }\n",
       "\n",
       "    .dataframe thead th {\n",
       "        text-align: right;\n",
       "    }\n",
       "</style>\n",
       "<table border=\"1\" class=\"dataframe\">\n",
       "  <thead>\n",
       "    <tr style=\"text-align: right;\">\n",
       "      <th></th>\n",
       "      <th>R&amp;D Spend</th>\n",
       "      <th>Administration</th>\n",
       "      <th>Marketing Spend</th>\n",
       "      <th>State</th>\n",
       "      <th>Profit</th>\n",
       "    </tr>\n",
       "  </thead>\n",
       "  <tbody>\n",
       "    <tr>\n",
       "      <th>0</th>\n",
       "      <td>165349.20</td>\n",
       "      <td>136897.80</td>\n",
       "      <td>471784.10</td>\n",
       "      <td>New York</td>\n",
       "      <td>192261.83</td>\n",
       "    </tr>\n",
       "    <tr>\n",
       "      <th>1</th>\n",
       "      <td>162597.70</td>\n",
       "      <td>151377.59</td>\n",
       "      <td>443898.53</td>\n",
       "      <td>California</td>\n",
       "      <td>191792.06</td>\n",
       "    </tr>\n",
       "    <tr>\n",
       "      <th>2</th>\n",
       "      <td>153441.51</td>\n",
       "      <td>101145.55</td>\n",
       "      <td>407934.54</td>\n",
       "      <td>Florida</td>\n",
       "      <td>191050.39</td>\n",
       "    </tr>\n",
       "    <tr>\n",
       "      <th>3</th>\n",
       "      <td>144372.41</td>\n",
       "      <td>118671.85</td>\n",
       "      <td>383199.62</td>\n",
       "      <td>New York</td>\n",
       "      <td>182901.99</td>\n",
       "    </tr>\n",
       "    <tr>\n",
       "      <th>4</th>\n",
       "      <td>142107.34</td>\n",
       "      <td>91391.77</td>\n",
       "      <td>366168.42</td>\n",
       "      <td>Florida</td>\n",
       "      <td>166187.94</td>\n",
       "    </tr>\n",
       "  </tbody>\n",
       "</table>\n",
       "</div>"
      ],
      "text/plain": [
       "   R&D Spend  Administration  Marketing Spend       State     Profit\n",
       "0  165349.20       136897.80        471784.10    New York  192261.83\n",
       "1  162597.70       151377.59        443898.53  California  191792.06\n",
       "2  153441.51       101145.55        407934.54     Florida  191050.39\n",
       "3  144372.41       118671.85        383199.62    New York  182901.99\n",
       "4  142107.34        91391.77        366168.42     Florida  166187.94"
      ]
     },
     "execution_count": 3,
     "metadata": {},
     "output_type": "execute_result"
    }
   ],
   "source": [
    "df.head()"
   ]
  },
  {
   "cell_type": "code",
   "execution_count": 4,
   "id": "e55ca03f",
   "metadata": {
    "hidden": true
   },
   "outputs": [
    {
     "data": {
      "text/plain": [
       "R&D Spend          0\n",
       "Administration     0\n",
       "Marketing Spend    0\n",
       "State              0\n",
       "Profit             0\n",
       "dtype: int64"
      ]
     },
     "execution_count": 4,
     "metadata": {},
     "output_type": "execute_result"
    }
   ],
   "source": [
    "df.isnull().sum()"
   ]
  },
  {
   "cell_type": "code",
   "execution_count": 5,
   "id": "089a9634",
   "metadata": {
    "hidden": true
   },
   "outputs": [
    {
     "name": "stdout",
     "output_type": "stream",
     "text": [
      "<class 'pandas.core.frame.DataFrame'>\n",
      "RangeIndex: 1000 entries, 0 to 999\n",
      "Data columns (total 5 columns):\n",
      " #   Column           Non-Null Count  Dtype  \n",
      "---  ------           --------------  -----  \n",
      " 0   R&D Spend        1000 non-null   float64\n",
      " 1   Administration   1000 non-null   float64\n",
      " 2   Marketing Spend  1000 non-null   float64\n",
      " 3   State            1000 non-null   object \n",
      " 4   Profit           1000 non-null   float64\n",
      "dtypes: float64(4), object(1)\n",
      "memory usage: 39.2+ KB\n"
     ]
    }
   ],
   "source": [
    "df.info()"
   ]
  },
  {
   "cell_type": "code",
   "execution_count": 6,
   "id": "e3ff8cdd",
   "metadata": {
    "hidden": true
   },
   "outputs": [
    {
     "data": {
      "text/html": [
       "<div>\n",
       "<style scoped>\n",
       "    .dataframe tbody tr th:only-of-type {\n",
       "        vertical-align: middle;\n",
       "    }\n",
       "\n",
       "    .dataframe tbody tr th {\n",
       "        vertical-align: top;\n",
       "    }\n",
       "\n",
       "    .dataframe thead th {\n",
       "        text-align: right;\n",
       "    }\n",
       "</style>\n",
       "<table border=\"1\" class=\"dataframe\">\n",
       "  <thead>\n",
       "    <tr style=\"text-align: right;\">\n",
       "      <th></th>\n",
       "      <th>R&amp;D Spend</th>\n",
       "      <th>Administration</th>\n",
       "      <th>Marketing Spend</th>\n",
       "      <th>Profit</th>\n",
       "    </tr>\n",
       "  </thead>\n",
       "  <tbody>\n",
       "    <tr>\n",
       "      <th>R&amp;D Spend</th>\n",
       "      <td>1.000000</td>\n",
       "      <td>0.582434</td>\n",
       "      <td>0.978407</td>\n",
       "      <td>0.945245</td>\n",
       "    </tr>\n",
       "    <tr>\n",
       "      <th>Administration</th>\n",
       "      <td>0.582434</td>\n",
       "      <td>1.000000</td>\n",
       "      <td>0.520465</td>\n",
       "      <td>0.741560</td>\n",
       "    </tr>\n",
       "    <tr>\n",
       "      <th>Marketing Spend</th>\n",
       "      <td>0.978407</td>\n",
       "      <td>0.520465</td>\n",
       "      <td>1.000000</td>\n",
       "      <td>0.917270</td>\n",
       "    </tr>\n",
       "    <tr>\n",
       "      <th>Profit</th>\n",
       "      <td>0.945245</td>\n",
       "      <td>0.741560</td>\n",
       "      <td>0.917270</td>\n",
       "      <td>1.000000</td>\n",
       "    </tr>\n",
       "  </tbody>\n",
       "</table>\n",
       "</div>"
      ],
      "text/plain": [
       "                 R&D Spend  Administration  Marketing Spend    Profit\n",
       "R&D Spend         1.000000        0.582434         0.978407  0.945245\n",
       "Administration    0.582434        1.000000         0.520465  0.741560\n",
       "Marketing Spend   0.978407        0.520465         1.000000  0.917270\n",
       "Profit            0.945245        0.741560         0.917270  1.000000"
      ]
     },
     "execution_count": 6,
     "metadata": {},
     "output_type": "execute_result"
    }
   ],
   "source": [
    "df.corr()"
   ]
  },
  {
   "cell_type": "code",
   "execution_count": 7,
   "id": "1d4c1da3",
   "metadata": {
    "hidden": true,
    "scrolled": true
   },
   "outputs": [
    {
     "data": {
      "text/plain": [
       "<AxesSubplot:>"
      ]
     },
     "execution_count": 7,
     "metadata": {},
     "output_type": "execute_result"
    },
    {
     "data": {
      "image/png": "[encoded data removed]",
      "text/plain": [
       "<Figure size 432x288 with 2 Axes>"
      ]
     },
     "metadata": {
      "needs_background": "light"
     },
     "output_type": "display_data"
    }
   ],
   "source": [
    "sns.heatmap(df.corr())"
   ]
  },
  {
   "cell_type": "code",
   "execution_count": 8,
   "id": "d03d7d37",
   "metadata": {
    "hidden": true
   },
   "outputs": [
    {
     "data": {
      "text/plain": [
       "Index(['R&D Spend', 'Administration', 'Marketing Spend', 'State', 'Profit'], dtype='object')"
      ]
     },
     "execution_count": 8,
     "metadata": {},
     "output_type": "execute_result"
    }
   ],
   "source": [
    "df.columns"
   ]
  },
  {
   "cell_type": "code",
   "execution_count": 9,
   "id": "fd3e852d",
   "metadata": {
    "hidden": true
   },
   "outputs": [
    {
     "data": {
      "text/html": [
       "<div>\n",
       "<style scoped>\n",
       "    .dataframe tbody tr th:only-of-type {\n",
       "        vertical-align: middle;\n",
       "    }\n",
       "\n",
       "    .dataframe tbody tr th {\n",
       "        vertical-align: top;\n",
       "    }\n",
       "\n",
       "    .dataframe thead th {\n",
       "        text-align: right;\n",
       "    }\n",
       "</style>\n",
       "<table border=\"1\" class=\"dataframe\">\n",
       "  <thead>\n",
       "    <tr style=\"text-align: right;\">\n",
       "      <th></th>\n",
       "      <th>R&amp;D Spend</th>\n",
       "      <th>Administration</th>\n",
       "      <th>Marketing Spend</th>\n",
       "    </tr>\n",
       "  </thead>\n",
       "  <tbody>\n",
       "    <tr>\n",
       "      <th>0</th>\n",
       "      <td>165349.20</td>\n",
       "      <td>136897.800</td>\n",
       "      <td>471784.1000</td>\n",
       "    </tr>\n",
       "    <tr>\n",
       "      <th>1</th>\n",
       "      <td>162597.70</td>\n",
       "      <td>151377.590</td>\n",
       "      <td>443898.5300</td>\n",
       "    </tr>\n",
       "    <tr>\n",
       "      <th>2</th>\n",
       "      <td>153441.51</td>\n",
       "      <td>101145.550</td>\n",
       "      <td>407934.5400</td>\n",
       "    </tr>\n",
       "    <tr>\n",
       "      <th>3</th>\n",
       "      <td>144372.41</td>\n",
       "      <td>118671.850</td>\n",
       "      <td>383199.6200</td>\n",
       "    </tr>\n",
       "    <tr>\n",
       "      <th>4</th>\n",
       "      <td>142107.34</td>\n",
       "      <td>91391.770</td>\n",
       "      <td>366168.4200</td>\n",
       "    </tr>\n",
       "    <tr>\n",
       "      <th>...</th>\n",
       "      <td>...</td>\n",
       "      <td>...</td>\n",
       "      <td>...</td>\n",
       "    </tr>\n",
       "    <tr>\n",
       "      <th>995</th>\n",
       "      <td>54135.00</td>\n",
       "      <td>118451.999</td>\n",
       "      <td>173232.6695</td>\n",
       "    </tr>\n",
       "    <tr>\n",
       "      <th>996</th>\n",
       "      <td>134970.00</td>\n",
       "      <td>130390.080</td>\n",
       "      <td>329204.0228</td>\n",
       "    </tr>\n",
       "    <tr>\n",
       "      <th>997</th>\n",
       "      <td>100275.47</td>\n",
       "      <td>241926.310</td>\n",
       "      <td>227142.8200</td>\n",
       "    </tr>\n",
       "    <tr>\n",
       "      <th>998</th>\n",
       "      <td>128456.23</td>\n",
       "      <td>321652.140</td>\n",
       "      <td>281692.3200</td>\n",
       "    </tr>\n",
       "    <tr>\n",
       "      <th>999</th>\n",
       "      <td>161181.72</td>\n",
       "      <td>270939.860</td>\n",
       "      <td>295442.1700</td>\n",
       "    </tr>\n",
       "  </tbody>\n",
       "</table>\n",
       "<p>1000 rows × 3 columns</p>\n",
       "</div>"
      ],
      "text/plain": [
       "     R&D Spend  Administration  Marketing Spend\n",
       "0    165349.20      136897.800      471784.1000\n",
       "1    162597.70      151377.590      443898.5300\n",
       "2    153441.51      101145.550      407934.5400\n",
       "3    144372.41      118671.850      383199.6200\n",
       "4    142107.34       91391.770      366168.4200\n",
       "..         ...             ...              ...\n",
       "995   54135.00      118451.999      173232.6695\n",
       "996  134970.00      130390.080      329204.0228\n",
       "997  100275.47      241926.310      227142.8200\n",
       "998  128456.23      321652.140      281692.3200\n",
       "999  161181.72      270939.860      295442.1700\n",
       "\n",
       "[1000 rows x 3 columns]"
      ]
     },
     "execution_count": 9,
     "metadata": {},
     "output_type": "execute_result"
    }
   ],
   "source": [
    "X = df[[\"R&D Spend\",\"Administration\",\"Marketing Spend\"]]\n",
    "X"
   ]
  },
  {
   "cell_type": "code",
   "execution_count": 10,
   "id": "7dcdc75e",
   "metadata": {
    "hidden": true
   },
   "outputs": [
    {
     "data": {
      "text/html": [
       "<div>\n",
       "<style scoped>\n",
       "    .dataframe tbody tr th:only-of-type {\n",
       "        vertical-align: middle;\n",
       "    }\n",
       "\n",
       "    .dataframe tbody tr th {\n",
       "        vertical-align: top;\n",
       "    }\n",
       "\n",
       "    .dataframe thead th {\n",
       "        text-align: right;\n",
       "    }\n",
       "</style>\n",
       "<table border=\"1\" class=\"dataframe\">\n",
       "  <thead>\n",
       "    <tr style=\"text-align: right;\">\n",
       "      <th></th>\n",
       "      <th>Profit</th>\n",
       "    </tr>\n",
       "  </thead>\n",
       "  <tbody>\n",
       "    <tr>\n",
       "      <th>0</th>\n",
       "      <td>192261.83000</td>\n",
       "    </tr>\n",
       "    <tr>\n",
       "      <th>1</th>\n",
       "      <td>191792.06000</td>\n",
       "    </tr>\n",
       "    <tr>\n",
       "      <th>2</th>\n",
       "      <td>191050.39000</td>\n",
       "    </tr>\n",
       "    <tr>\n",
       "      <th>3</th>\n",
       "      <td>182901.99000</td>\n",
       "    </tr>\n",
       "    <tr>\n",
       "      <th>4</th>\n",
       "      <td>166187.94000</td>\n",
       "    </tr>\n",
       "    <tr>\n",
       "      <th>...</th>\n",
       "      <td>...</td>\n",
       "    </tr>\n",
       "    <tr>\n",
       "      <th>995</th>\n",
       "      <td>95279.96251</td>\n",
       "    </tr>\n",
       "    <tr>\n",
       "      <th>996</th>\n",
       "      <td>164336.60550</td>\n",
       "    </tr>\n",
       "    <tr>\n",
       "      <th>997</th>\n",
       "      <td>413956.48000</td>\n",
       "    </tr>\n",
       "    <tr>\n",
       "      <th>998</th>\n",
       "      <td>333962.19000</td>\n",
       "    </tr>\n",
       "    <tr>\n",
       "      <th>999</th>\n",
       "      <td>476485.43000</td>\n",
       "    </tr>\n",
       "  </tbody>\n",
       "</table>\n",
       "<p>1000 rows × 1 columns</p>\n",
       "</div>"
      ],
      "text/plain": [
       "           Profit\n",
       "0    192261.83000\n",
       "1    191792.06000\n",
       "2    191050.39000\n",
       "3    182901.99000\n",
       "4    166187.94000\n",
       "..            ...\n",
       "995   95279.96251\n",
       "996  164336.60550\n",
       "997  413956.48000\n",
       "998  333962.19000\n",
       "999  476485.43000\n",
       "\n",
       "[1000 rows x 1 columns]"
      ]
     },
     "execution_count": 10,
     "metadata": {},
     "output_type": "execute_result"
    }
   ],
   "source": [
    "Y = df[[\"Profit\"]]\n",
    "Y"
   ]
  },
  {
   "cell_type": "markdown",
   "id": "407587ad",
   "metadata": {
    "heading_collapsed": true
   },
   "source": [
    "# Visualisation"
   ]
  },
  {
   "cell_type": "code",
   "execution_count": 11,
   "id": "bde04962",
   "metadata": {
    "hidden": true
   },
   "outputs": [
    {
     "data": {
      "text/plain": [
       "<seaborn.axisgrid.PairGrid at 0x22b53209ee0>"
      ]
     },
     "execution_count": 11,
     "metadata": {},
     "output_type": "execute_result"
    },
    {
     "data": {
      "image/png": "[encoded data removed]",
      "text/plain": [
       "<Figure size 540x180 with 3 Axes>"
      ]
     },
     "metadata": {
      "needs_background": "light"
     },
     "output_type": "display_data"
    }
   ],
   "source": [
    "sns.pairplot(df, x_vars = X, y_vars = Y, kind = 'reg')"
   ]
  },
  {
   "cell_type": "code",
   "execution_count": 12,
   "id": "455096e3",
   "metadata": {
    "hidden": true
   },
   "outputs": [
    {
     "data": {
      "text/plain": [
       "<AxesSubplot:xlabel='R&D Spend', ylabel='Profit'>"
      ]
     },
     "execution_count": 12,
     "metadata": {},
     "output_type": "execute_result"
    },
    {
     "data": {
      "image/png": "[encoded data removed]",
      "text/plain": [
       "<Figure size 432x288 with 1 Axes>"
      ]
     },
     "metadata": {
      "needs_background": "light"
     },
     "output_type": "display_data"
    }
   ],
   "source": [
    "sns.residplot(x = \"R&D Spend\", y = \"Profit\", data = df)"
   ]
  },
  {
   "cell_type": "markdown",
   "id": "521ee808",
   "metadata": {
    "heading_collapsed": true
   },
   "source": [
    "# Splitting the data into train and test"
   ]
  },
  {
   "cell_type": "code",
   "execution_count": 13,
   "id": "668f082b",
   "metadata": {
    "hidden": true
   },
   "outputs": [
    {
     "data": {
      "text/html": [
       "<div>\n",
       "<style scoped>\n",
       "    .dataframe tbody tr th:only-of-type {\n",
       "        vertical-align: middle;\n",
       "    }\n",
       "\n",
       "    .dataframe tbody tr th {\n",
       "        vertical-align: top;\n",
       "    }\n",
       "\n",
       "    .dataframe thead th {\n",
       "        text-align: right;\n",
       "    }\n",
       "</style>\n",
       "<table border=\"1\" class=\"dataframe\">\n",
       "  <thead>\n",
       "    <tr style=\"text-align: right;\">\n",
       "      <th></th>\n",
       "      <th>R&amp;D Spend</th>\n",
       "      <th>Administration</th>\n",
       "      <th>Marketing Spend</th>\n",
       "    </tr>\n",
       "  </thead>\n",
       "  <tbody>\n",
       "    <tr>\n",
       "      <th>687</th>\n",
       "      <td>38385.0</td>\n",
       "      <td>116125.9672</td>\n",
       "      <td>142843.00150</td>\n",
       "    </tr>\n",
       "    <tr>\n",
       "      <th>500</th>\n",
       "      <td>125610.0</td>\n",
       "      <td>129007.7526</td>\n",
       "      <td>311143.87720</td>\n",
       "    </tr>\n",
       "    <tr>\n",
       "      <th>332</th>\n",
       "      <td>101322.0</td>\n",
       "      <td>125420.7901</td>\n",
       "      <td>264280.11490</td>\n",
       "    </tr>\n",
       "    <tr>\n",
       "      <th>979</th>\n",
       "      <td>12914.0</td>\n",
       "      <td>112364.2939</td>\n",
       "      <td>93696.63744</td>\n",
       "    </tr>\n",
       "    <tr>\n",
       "      <th>817</th>\n",
       "      <td>109909.0</td>\n",
       "      <td>126688.9574</td>\n",
       "      <td>280848.75480</td>\n",
       "    </tr>\n",
       "    <tr>\n",
       "      <th>...</th>\n",
       "      <td>...</td>\n",
       "      <td>...</td>\n",
       "      <td>...</td>\n",
       "    </tr>\n",
       "    <tr>\n",
       "      <th>835</th>\n",
       "      <td>110391.0</td>\n",
       "      <td>126760.1413</td>\n",
       "      <td>281778.77510</td>\n",
       "    </tr>\n",
       "    <tr>\n",
       "      <th>192</th>\n",
       "      <td>53078.0</td>\n",
       "      <td>118295.8964</td>\n",
       "      <td>171193.18510</td>\n",
       "    </tr>\n",
       "    <tr>\n",
       "      <th>629</th>\n",
       "      <td>22876.0</td>\n",
       "      <td>113835.5275</td>\n",
       "      <td>112918.34360</td>\n",
       "    </tr>\n",
       "    <tr>\n",
       "      <th>559</th>\n",
       "      <td>66766.0</td>\n",
       "      <td>120317.4026</td>\n",
       "      <td>197604.21850</td>\n",
       "    </tr>\n",
       "    <tr>\n",
       "      <th>684</th>\n",
       "      <td>112108.0</td>\n",
       "      <td>127013.7157</td>\n",
       "      <td>285091.73130</td>\n",
       "    </tr>\n",
       "  </tbody>\n",
       "</table>\n",
       "<p>800 rows × 3 columns</p>\n",
       "</div>"
      ],
      "text/plain": [
       "     R&D Spend  Administration  Marketing Spend\n",
       "687    38385.0     116125.9672     142843.00150\n",
       "500   125610.0     129007.7526     311143.87720\n",
       "332   101322.0     125420.7901     264280.11490\n",
       "979    12914.0     112364.2939      93696.63744\n",
       "817   109909.0     126688.9574     280848.75480\n",
       "..         ...             ...              ...\n",
       "835   110391.0     126760.1413     281778.77510\n",
       "192    53078.0     118295.8964     171193.18510\n",
       "629    22876.0     113835.5275     112918.34360\n",
       "559    66766.0     120317.4026     197604.21850\n",
       "684   112108.0     127013.7157     285091.73130\n",
       "\n",
       "[800 rows x 3 columns]"
      ]
     },
     "execution_count": 13,
     "metadata": {},
     "output_type": "execute_result"
    }
   ],
   "source": [
    "x_train, x_test, y_train, y_test = train_test_split(X, Y,test_size = 0.2, random_state = 0)\n",
    "x_train"
   ]
  },
  {
   "cell_type": "markdown",
   "id": "b6f73656",
   "metadata": {
    "heading_collapsed": true
   },
   "source": [
    "# Building the linear Regression model"
   ]
  },
  {
   "cell_type": "code",
   "execution_count": 14,
   "id": "38558a74",
   "metadata": {
    "hidden": true
   },
   "outputs": [
    {
     "data": {
      "text/html": [
       "<style>#sk-container-id-1 {color: black;background-color: white;}#sk-container-id-1 pre{padding: 0;}#sk-container-id-1 div.sk-toggleable {background-color: white;}#sk-container-id-1 label.sk-toggleable__label {cursor: pointer;display: block;width: 100%;margin-bottom: 0;padding: 0.3em;box-sizing: border-box;text-align: center;}#sk-container-id-1 label.sk-toggleable__label-arrow:before {content: \"▸\";float: left;margin-right: 0.25em;color: #696969;}#sk-container-id-1 label.sk-toggleable__label-arrow:hover:before {color: black;}#sk-container-id-1 div.sk-estimator:hover label.sk-toggleable__label-arrow:before {color: black;}#sk-container-id-1 div.sk-toggleable__content {max-height: 0;max-width: 0;overflow: hidden;text-align: left;background-color: #f0f8ff;}#sk-container-id-1 div.sk-toggleable__content pre {margin: 0.2em;color: black;border-radius: 0.25em;background-color: #f0f8ff;}#sk-container-id-1 input.sk-toggleable__control:checked~div.sk-toggleable__content {max-height: 200px;max-width: 100%;overflow: auto;}#sk-container-id-1 input.sk-toggleable__control:checked~label.sk-toggleable__label-arrow:before {content: \"▾\";}#sk-container-id-1 div.sk-estimator input.sk-toggleable__control:checked~label.sk-toggleable__label {background-color: #d4ebff;}#sk-container-id-1 div.sk-label input.sk-toggleable__control:checked~label.sk-toggleable__label {background-color: #d4ebff;}#sk-container-id-1 input.sk-hidden--visually {border: 0;clip: rect(1px 1px 1px 1px);clip: rect(1px, 1px, 1px, 1px);height: 1px;margin: -1px;overflow: hidden;padding: 0;position: absolute;width: 1px;}#sk-container-id-1 div.sk-estimator {font-family: monospace;background-color: #f0f8ff;border: 1px dotted black;border-radius: 0.25em;box-sizing: border-box;margin-bottom: 0.5em;}#sk-container-id-1 div.sk-estimator:hover {background-color: #d4ebff;}#sk-container-id-1 div.sk-parallel-item::after {content: \"\";width: 100%;border-bottom: 1px solid gray;flex-grow: 1;}#sk-container-id-1 div.sk-label:hover label.sk-toggleable__label {background-color: #d4ebff;}#sk-container-id-1 div.sk-serial::before {content: \"\";position: absolute;border-left: 1px solid gray;box-sizing: border-box;top: 0;bottom: 0;left: 50%;z-index: 0;}#sk-container-id-1 div.sk-serial {display: flex;flex-direction: column;align-items: center;background-color: white;padding-right: 0.2em;padding-left: 0.2em;position: relative;}#sk-container-id-1 div.sk-item {position: relative;z-index: 1;}#sk-container-id-1 div.sk-parallel {display: flex;align-items: stretch;justify-content: center;background-color: white;position: relative;}#sk-container-id-1 div.sk-item::before, #sk-container-id-1 div.sk-parallel-item::before {content: \"\";position: absolute;border-left: 1px solid gray;box-sizing: border-box;top: 0;bottom: 0;left: 50%;z-index: -1;}#sk-container-id-1 div.sk-parallel-item {display: flex;flex-direction: column;z-index: 1;position: relative;background-color: white;}#sk-container-id-1 div.sk-parallel-item:first-child::after {align-self: flex-end;width: 50%;}#sk-container-id-1 div.sk-parallel-item:last-child::after {align-self: flex-start;width: 50%;}#sk-container-id-1 div.sk-parallel-item:only-child::after {width: 0;}#sk-container-id-1 div.sk-dashed-wrapped {border: 1px dashed gray;margin: 0 0.4em 0.5em 0.4em;box-sizing: border-box;padding-bottom: 0.4em;background-color: white;}#sk-container-id-1 div.sk-label label {font-family: monospace;font-weight: bold;display: inline-block;line-height: 1.2em;}#sk-container-id-1 div.sk-label-container {text-align: center;}#sk-container-id-1 div.sk-container {/* jupyter's `normalize.less` sets `[hidden] { display: none; }` but bootstrap.min.css set `[hidden] { display: none !important; }` so we also need the `!important` here to be able to override the default hidden behavior on the sphinx rendered scikit-learn.org. See: https://github.com/scikit-learn/scikit-learn/issues/21755 */display: inline-block !important;position: relative;}#sk-container-id-1 div.sk-text-repr-fallback {display: none;}</style><div id=\"sk-container-id-1\" class=\"sk-top-container\"><div class=\"sk-text-repr-fallback\"><pre>LinearRegression()</pre><b>In a Jupyter environment, please rerun this cell to show the HTML representation or trust the notebook. <br />On GitHub, the HTML representation is unable to render, please try loading this page with nbviewer.org.</b></div><div class=\"sk-container\" hidden><div class=\"sk-item\"><div class=\"sk-estimator sk-toggleable\"><input class=\"sk-toggleable__control sk-hidden--visually\" id=\"sk-estimator-id-1\" type=\"checkbox\" checked><label for=\"sk-estimator-id-1\" class=\"sk-toggleable__label sk-toggleable__label-arrow\">LinearRegression</label><div class=\"sk-toggleable__content\"><pre>LinearRegression()</pre></div></div></div></div></div>"
      ],
      "text/plain": [
       "LinearRegression()"
      ]
     },
     "execution_count": 14,
     "metadata": {},
     "output_type": "execute_result"
    }
   ],
   "source": [
    "lm = LinearRegression()\n",
    "lm"
   ]
  },
  {
   "cell_type": "code",
   "execution_count": 15,
   "id": "22c1b4b4",
   "metadata": {
    "hidden": true
   },
   "outputs": [
    {
     "data": {
      "text/html": [
       "<style>#sk-container-id-2 {color: black;background-color: white;}#sk-container-id-2 pre{padding: 0;}#sk-container-id-2 div.sk-toggleable {background-color: white;}#sk-container-id-2 label.sk-toggleable__label {cursor: pointer;display: block;width: 100%;margin-bottom: 0;padding: 0.3em;box-sizing: border-box;text-align: center;}#sk-container-id-2 label.sk-toggleable__label-arrow:before {content: \"▸\";float: left;margin-right: 0.25em;color: #696969;}#sk-container-id-2 label.sk-toggleable__label-arrow:hover:before {color: black;}#sk-container-id-2 div.sk-estimator:hover label.sk-toggleable__label-arrow:before {color: black;}#sk-container-id-2 div.sk-toggleable__content {max-height: 0;max-width: 0;overflow: hidden;text-align: left;background-color: #f0f8ff;}#sk-container-id-2 div.sk-toggleable__content pre {margin: 0.2em;color: black;border-radius: 0.25em;background-color: #f0f8ff;}#sk-container-id-2 input.sk-toggleable__control:checked~div.sk-toggleable__content {max-height: 200px;max-width: 100%;overflow: auto;}#sk-container-id-2 input.sk-toggleable__control:checked~label.sk-toggleable__label-arrow:before {content: \"▾\";}#sk-container-id-2 div.sk-estimator input.sk-toggleable__control:checked~label.sk-toggleable__label {background-color: #d4ebff;}#sk-container-id-2 div.sk-label input.sk-toggleable__control:checked~label.sk-toggleable__label {background-color: #d4ebff;}#sk-container-id-2 input.sk-hidden--visually {border: 0;clip: rect(1px 1px 1px 1px);clip: rect(1px, 1px, 1px, 1px);height: 1px;margin: -1px;overflow: hidden;padding: 0;position: absolute;width: 1px;}#sk-container-id-2 div.sk-estimator {font-family: monospace;background-color: #f0f8ff;border: 1px dotted black;border-radius: 0.25em;box-sizing: border-box;margin-bottom: 0.5em;}#sk-container-id-2 div.sk-estimator:hover {background-color: #d4ebff;}#sk-container-id-2 div.sk-parallel-item::after {content: \"\";width: 100%;border-bottom: 1px solid gray;flex-grow: 1;}#sk-container-id-2 div.sk-label:hover label.sk-toggleable__label {background-color: #d4ebff;}#sk-container-id-2 div.sk-serial::before {content: \"\";position: absolute;border-left: 1px solid gray;box-sizing: border-box;top: 0;bottom: 0;left: 50%;z-index: 0;}#sk-container-id-2 div.sk-serial {display: flex;flex-direction: column;align-items: center;background-color: white;padding-right: 0.2em;padding-left: 0.2em;position: relative;}#sk-container-id-2 div.sk-item {position: relative;z-index: 1;}#sk-container-id-2 div.sk-parallel {display: flex;align-items: stretch;justify-content: center;background-color: white;position: relative;}#sk-container-id-2 div.sk-item::before, #sk-container-id-2 div.sk-parallel-item::before {content: \"\";position: absolute;border-left: 1px solid gray;box-sizing: border-box;top: 0;bottom: 0;left: 50%;z-index: -1;}#sk-container-id-2 div.sk-parallel-item {display: flex;flex-direction: column;z-index: 1;position: relative;background-color: white;}#sk-container-id-2 div.sk-parallel-item:first-child::after {align-self: flex-end;width: 50%;}#sk-container-id-2 div.sk-parallel-item:last-child::after {align-self: flex-start;width: 50%;}#sk-container-id-2 div.sk-parallel-item:only-child::after {width: 0;}#sk-container-id-2 div.sk-dashed-wrapped {border: 1px dashed gray;margin: 0 0.4em 0.5em 0.4em;box-sizing: border-box;padding-bottom: 0.4em;background-color: white;}#sk-container-id-2 div.sk-label label {font-family: monospace;font-weight: bold;display: inline-block;line-height: 1.2em;}#sk-container-id-2 div.sk-label-container {text-align: center;}#sk-container-id-2 div.sk-container {/* jupyter's `normalize.less` sets `[hidden] { display: none; }` but bootstrap.min.css set `[hidden] { display: none !important; }` so we also need the `!important` here to be able to override the default hidden behavior on the sphinx rendered scikit-learn.org. See: https://github.com/scikit-learn/scikit-learn/issues/21755 */display: inline-block !important;position: relative;}#sk-container-id-2 div.sk-text-repr-fallback {display: none;}</style><div id=\"sk-container-id-2\" class=\"sk-top-container\"><div class=\"sk-text-repr-fallback\"><pre>LinearRegression()</pre><b>In a Jupyter environment, please rerun this cell to show the HTML representation or trust the notebook. <br />On GitHub, the HTML representation is unable to render, please try loading this page with nbviewer.org.</b></div><div class=\"sk-container\" hidden><div class=\"sk-item\"><div class=\"sk-estimator sk-toggleable\"><input class=\"sk-toggleable__control sk-hidden--visually\" id=\"sk-estimator-id-2\" type=\"checkbox\" checked><label for=\"sk-estimator-id-2\" class=\"sk-toggleable__label sk-toggleable__label-arrow\">LinearRegression</label><div class=\"sk-toggleable__content\"><pre>LinearRegression()</pre></div></div></div></div></div>"
      ],
      "text/plain": [
       "LinearRegression()"
      ]
     },
     "execution_count": 15,
     "metadata": {},
     "output_type": "execute_result"
    }
   ],
   "source": [
    "lm.fit(x_train,y_train)"
   ]
  },
  {
   "cell_type": "code",
   "execution_count": 16,
   "id": "dec8dfb4",
   "metadata": {
    "hidden": true
   },
   "outputs": [
    {
     "data": {
      "text/plain": [
       "array([[ 89277.93054003],\n",
       "       [ 87914.47646729],\n",
       "       [ 94381.65899976],\n",
       "       [176043.03107892],\n",
       "       [ 83597.58708608],\n",
       "       [110755.97826629],\n",
       "       [132203.39808538],\n",
       "       [ 90960.58209961],\n",
       "       [164777.58862235],\n",
       "       [ 53593.01784897],\n",
       "       [ 66439.00295311],\n",
       "       [150930.24999022],\n",
       "       [126400.09021075],\n",
       "       [ 58827.17115615],\n",
       "       [176995.47531643],\n",
       "       [ 75502.66876761],\n",
       "       [118614.07271066],\n",
       "       [164056.81999329],\n",
       "       [171382.58712591],\n",
       "       [182248.50594104],\n",
       "       [119169.40047641],\n",
       "       [ 85157.5364504 ],\n",
       "       [181354.4095907 ],\n",
       "       [ 83632.76748754],\n",
       "       [104492.155517  ],\n",
       "       [100720.13283149],\n",
       "       [ 54102.82823857],\n",
       "       [ 57069.0105291 ],\n",
       "       [ 68385.07833508],\n",
       "       [209487.80143381],\n",
       "       [121144.48546932],\n",
       "       [111210.74895612],\n",
       "       [101672.57715358],\n",
       "       [138323.66305576],\n",
       "       [ 63458.96777026],\n",
       "       [108343.97745534],\n",
       "       [186193.85616801],\n",
       "       [171805.08295377],\n",
       "       [175006.49706597],\n",
       "       [118037.4577271 ],\n",
       "       [ 96916.36211187],\n",
       "       [164934.61324361],\n",
       "       [107210.48293426],\n",
       "       [ 50564.93145379],\n",
       "       [116879.93764961],\n",
       "       [ 58121.84755216],\n",
       "       [158779.76381228],\n",
       "       [ 78910.0167059 ],\n",
       "       [160090.87630219],\n",
       "       [131502.96069503],\n",
       "       [185242.27000119],\n",
       "       [174971.3167491 ],\n",
       "       [ 93232.71947067],\n",
       "       [ 78527.32288643],\n",
       "       [180925.38061998],\n",
       "       [ 84829.75831993],\n",
       "       [143265.21863925],\n",
       "       [170798.5810873 ],\n",
       "       [ 84550.88947886],\n",
       "       [105491.79298712],\n",
       "       [142024.46685701],\n",
       "       [ 52715.22459865],\n",
       "       [141326.86572433],\n",
       "       [139358.48092734],\n",
       "       [ 97781.28446034],\n",
       "       [113953.10210961],\n",
       "       [126937.2344394 ],\n",
       "       [152316.87154868],\n",
       "       [ 59051.98237038],\n",
       "       [174647.82889815],\n",
       "       [124109.07562284],\n",
       "       [168547.89516648],\n",
       "       [ 91647.02848248],\n",
       "       [156351.45989065],\n",
       "       [ 83794.94044835],\n",
       "       [ 78063.97165886],\n",
       "       [120779.81088059],\n",
       "       [ 93565.64593004],\n",
       "       [138504.71323342],\n",
       "       [143088.45863521],\n",
       "       [171510.76909404],\n",
       "       [139566.98895483],\n",
       "       [106554.06862394],\n",
       "       [155124.43708094],\n",
       "       [140212.248526  ],\n",
       "       [110356.98135746],\n",
       "       [ 69161.62073448],\n",
       "       [ 88334.06684026],\n",
       "       [139617.61438562],\n",
       "       [148660.68675731],\n",
       "       [158097.60778286],\n",
       "       [ 58022.3128405 ],\n",
       "       [ 93892.56598982],\n",
       "       [113012.67060801],\n",
       "       [ 56743.80653251],\n",
       "       [107599.18317463],\n",
       "       [147716.82305753],\n",
       "       [152325.452171  ],\n",
       "       [167988.44134297],\n",
       "       [118235.66916006],\n",
       "       [121129.04043998],\n",
       "       [139394.5193149 ],\n",
       "       [157708.90755314],\n",
       "       [122327.74733984],\n",
       "       [ 87276.93945841],\n",
       "       [105159.7245032 ],\n",
       "       [ 95520.30184974],\n",
       "       [178569.15356871],\n",
       "       [181423.91223834],\n",
       "       [110015.47426511],\n",
       "       [164736.40188457],\n",
       "       [167288.26607214],\n",
       "       [158183.41353052],\n",
       "       [174962.73612678],\n",
       "       [169678.81546483],\n",
       "       [ 51791.9542635 ],\n",
       "       [176419.71848815],\n",
       "       [104238.17031369],\n",
       "       [ 82198.09462578],\n",
       "       [139072.74760533],\n",
       "       [144638.96930653],\n",
       "       [162042.10003438],\n",
       "       [170024.61282605],\n",
       "       [120816.7073495 ],\n",
       "       [159243.97309988],\n",
       "       [109699.70896579],\n",
       "       [169854.71730294],\n",
       "       [ 60249.83118995],\n",
       "       [158519.77227265],\n",
       "       [157652.27571211],\n",
       "       [174691.58983734],\n",
       "       [156475.87832252],\n",
       "       [103200.77831463],\n",
       "       [ 85821.67323842],\n",
       "       [141087.46756425],\n",
       "       [166098.13981593],\n",
       "       [121547.77274226],\n",
       "       [170953.0466192 ],\n",
       "       [100872.86718388],\n",
       "       [ 82465.80871704],\n",
       "       [178124.67955799],\n",
       "       [101277.01244293],\n",
       "       [ 70694.11215373],\n",
       "       [ 90435.45070211],\n",
       "       [ 61434.80919865],\n",
       "       [ 69098.9824832 ],\n",
       "       [ 73144.72557497],\n",
       "       [176395.69283649],\n",
       "       [ 90072.49217018],\n",
       "       [128705.84414107],\n",
       "       [ 93040.51453254],\n",
       "       [ 88585.67389869],\n",
       "       [172318.20162603],\n",
       "       [ 60382.83016276],\n",
       "       [169378.49518418],\n",
       "       [165932.53456169],\n",
       "       [165788.38084228],\n",
       "       [102537.49951271],\n",
       "       [181773.99987908],\n",
       "       [ 74071.4281147 ],\n",
       "       [ 90754.6481996 ],\n",
       "       [135275.84136665],\n",
       "       [ 65109.8712218 ],\n",
       "       [ 71962.3217858 ],\n",
       "       [ 60791.26577526],\n",
       "       [184650.20998829],\n",
       "       [176648.81996911],\n",
       "       [159088.66463066],\n",
       "       [141541.38025731],\n",
       "       [154792.36869226],\n",
       "       [ 58737.07505717],\n",
       "       [ 90986.32389264],\n",
       "       [153066.81416894],\n",
       "       [168760.69346284],\n",
       "       [ 72671.93565439],\n",
       "       [116430.31530999],\n",
       "       [ 80456.23709768],\n",
       "       [150010.41185751],\n",
       "       [116990.62711961],\n",
       "       [129676.15531013],\n",
       "       [174896.66567732],\n",
       "       [294038.61507917],\n",
       "       [145754.44457554],\n",
       "       [150828.14106862],\n",
       "       [ 86475.51334733],\n",
       "       [ 70336.30197202],\n",
       "       [ 70465.86874345],\n",
       "       [ 68522.36757356],\n",
       "       [120850.17160958],\n",
       "       [ 89863.12606133],\n",
       "       [167187.01530581],\n",
       "       [124999.73969042],\n",
       "       [ 67396.59561476],\n",
       "       [141031.13026096],\n",
       "       [118029.73526005],\n",
       "       [165379.94531436],\n",
       "       [169018.11087499],\n",
       "       [146493.232446  ],\n",
       "       [141578.27671557],\n",
       "       [109270.6799844 ]])"
      ]
     },
     "execution_count": 16,
     "metadata": {},
     "output_type": "execute_result"
    }
   ],
   "source": [
    "y_hat = lm.predict(x_test)\n",
    "y_hat"
   ]
  },
  {
   "cell_type": "markdown",
   "id": "ba1b9faf",
   "metadata": {
    "heading_collapsed": true
   },
   "source": [
    "# Calculating regression coffecient, intercept  and R^2 "
   ]
  },
  {
   "cell_type": "code",
   "execution_count": 17,
   "id": "41f4ba0c",
   "metadata": {
    "hidden": true
   },
   "outputs": [
    {
     "data": {
      "text/plain": [
       "array([-51639.7882535])"
      ]
     },
     "execution_count": 17,
     "metadata": {},
     "output_type": "execute_result"
    }
   ],
   "source": [
    "lm.intercept_"
   ]
  },
  {
   "cell_type": "code",
   "execution_count": 18,
   "id": "fb61de5c",
   "metadata": {
    "hidden": true
   },
   "outputs": [
    {
     "data": {
      "text/plain": [
       "array([[0.52737847, 0.8458277 , 0.10664082]])"
      ]
     },
     "execution_count": 18,
     "metadata": {},
     "output_type": "execute_result"
    }
   ],
   "source": [
    "lm.coef_"
   ]
  },
  {
   "cell_type": "markdown",
   "id": "27113571",
   "metadata": {
    "hidden": true
   },
   "source": [
    "we get a final linear function with the structure:\n",
    " \n",
    "                                       Yhat = b_0 = b_1X_1 + b_2X_2 + B_3X_3\n",
    "\n",
    "Profit = -51639.7882535 + 0.52737847 x R&D Spend + 0.845827 x Administration +  0.10664082 x Marketing Spend "
   ]
  },
  {
   "cell_type": "code",
   "execution_count": 19,
   "id": "f8d82967",
   "metadata": {
    "hidden": true
   },
   "outputs": [
    {
     "data": {
      "text/plain": [
       "0.9117375294964101"
      ]
     },
     "execution_count": 19,
     "metadata": {},
     "output_type": "execute_result"
    }
   ],
   "source": [
    "r2_score(y_test,y_hat)"
   ]
  }
 ],
 "metadata": {
  "kernelspec": {
   "display_name": "Python 3 (ipykernel)",
   "language": "python",
   "name": "python3"
  },
  "language_info": {
   "codemirror_mode": {
    "name": "ipython",
    "version": 3
   },
   "file_extension": ".py",
   "mimetype": "text/x-python",
   "name": "python",
   "nbconvert_exporter": "python",
   "pygments_lexer": "ipython3",
   "version": "3.9.12"
  }
 },
 "nbformat": 4,
 "nbformat_minor": 5
}
